{
  "nbformat": 4,
  "nbformat_minor": 0,
  "metadata": {
    "colab": {
      "provenance": []
    },
    "kernelspec": {
      "name": "python3",
      "display_name": "Python 3"
    },
    "language_info": {
      "name": "python"
    }
  },
  "cells": [
    {
      "cell_type": "code",
      "source": [
        "from google.colab import drive\n",
        "drive.mount(\"/content/drive\")\n",
        "# %cd /content/drive/Shareddrives/Duong-LongWarwick/ROM\n",
        "# !python -m atari_py.import_roms .\n",
        "%cd '/content/drive/Shareddrives/Duong-KhoiBKHN/PantheonRL-Environment'\n",
        "!ls"
      ],
      "metadata": {
        "id": "UiF8oMYNZKKD",
        "colab": {
          "base_uri": "https://localhost:8080/"
        },
        "outputId": "b02022a4-93da-476c-d1a5-db8219e7bbe6"
      },
      "execution_count": 1,
      "outputs": [
        {
          "output_type": "stream",
          "name": "stdout",
          "text": [
            "Mounted at /content/drive\n",
            "/content/drive/Shareddrives/Duong-KhoiBKHN/PantheonRL-Environment\n",
            "OvercookedAI-Environment.ipynb\tPantheonRL-MockEnvironment.ipynb\n",
            "overcooked_ai_py\n"
          ]
        }
      ]
    },
    {
      "cell_type": "code",
      "source": [
        "# from environment import OvercookedEnvironment\n",
        "# from gym_cooking.envs import OvercookedEnvironment\n",
        "# from recipe_planner.recipe import *\n",
        "\n",
        "import numpy as np\n",
        "import random\n",
        "import argparse\n",
        "from collections import namedtuple\n",
        "\n",
        "import gym\n"
      ],
      "metadata": {
        "id": "bjBiJDD7c35A"
      },
      "execution_count": 3,
      "outputs": []
    },
    {
      "cell_type": "code",
      "source": [
        "class manycook_arg:\n",
        "    def __init__(self):\n",
        "        # Environment\n",
        "        self.level = 'open-divider_salad' \n",
        "        self.num_agents = 2 \n",
        "        self.max_num_timesteps = 100\n",
        "        self.max_num_subtasks = 14\n",
        "        self.seed = 1\n",
        "        self.with_image_obs = False\n",
        "        self.beta = 1.3\n",
        "\n",
        "        # Navigation Planner\n",
        "        self.alpha = 0.01\n",
        "        self.tau = 2\n",
        "        self.cap = 75\n",
        "        self.main_cap = 100\n",
        "\n",
        "        # Visualizations \n",
        "        self.play = True\n",
        "        self.record = False\n",
        "        \n",
        "        # Models \n",
        "        self.model1 = None \n",
        "        self.model2 = None \n",
        "        self.model3 = None \n",
        "        self.model4 = None"
      ],
      "metadata": {
        "id": "eUoFS6ZnkajO"
      },
      "execution_count": 4,
      "outputs": []
    }
  ]
}